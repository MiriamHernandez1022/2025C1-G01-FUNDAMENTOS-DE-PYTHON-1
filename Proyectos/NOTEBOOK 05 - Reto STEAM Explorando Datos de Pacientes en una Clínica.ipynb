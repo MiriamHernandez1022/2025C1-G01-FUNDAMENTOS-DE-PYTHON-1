{
 "cells": [
  {
   "cell_type": "markdown",
   "metadata": {
    "azdata_cell_guid": "e738b43d-fda9-409b-9e4e-f356323e1dbc"
   },
   "source": [
    "# Reto Bootcamp STEAM: Explorando Datos de Pacientes en una Clínica\n",
    "## Fundamentos de Python | UMCA\n",
    "## Profesor: Ing. Andrés Mena Abarca\n",
    "### <mark>**Nombre del estudiante: Miriam Hernandez **</mark>\n",
    "* * *"
   ]
  },
  {
   "attachments": {},
   "cell_type": "markdown",
   "metadata": {
    "azdata_cell_guid": "5a9661f6-9c22-438b-8530-debb92fea2ff"
   },
   "source": [
    "¡Bienvenidos al reto STEAM! Hoy serás parte de un equipo de científicos de datos que está desarrollando una aplicación para analizar los datos de los pacientes de una clínica. Este proyecto se integra dentro del enfoque STEAM, donde no solo usaremos habilidades de programación y análisis, sino también creatividad, visualización y reflexión crítica para mejorar la experiencia de salud.\n",
    "\n",
    "En este reto, utilizaremos **Python** para analizar datos clínicos reales y responder preguntas importantes sobre la salud de los pacientes. También diseñarás soluciones creativas y colaborarás con tus compañeros para mejorar la aplicación.\n",
    "\n",
    "### Contexto:\n",
    "\n",
    "El director de la clínica te ha encargado que construyas un sistema que pueda analizar la información de los pacientes, entender las enfermedades tratadas, los medicamentos recetados y comparar pacientes.\n",
    "\n",
    "### Objetivos del Reto:\n",
    "1. Aplicar estructuras básicas de Python como listas y ciclos.\n",
    "2. Leer datos desde un archivo JSON y almacenarlos en listas.\n",
    "3. Realizar análisis de datos sobre enfermedades y medicamentos.\n",
    "4. Visualizar y comunicar los resultados de manera creativa.\n",
    "\n",
    "### Fase Creativa STEAM:\n",
    "- **Ciencia y Tecnología:** Analizarás los datos clínicos.\n",
    "- **Ingeniería:** Implementarás las soluciones utilizando estructuras de Python.\n",
    "- **Arte y Matemáticas:** Visualizarás los resultados de manera atractiva y clara.\n",
    "\n",
    "¡Comencemos!\n",
    "\n",
    "## Cargar y Leer los Datos de Pacientes"
   ]
  },
  {
   "cell_type": "code",
   "execution_count": 1,
   "metadata": {
    "azdata_cell_guid": "65553934-e4e4-4b44-aa2e-b234d1a33667",
    "language": "python"
   },
   "outputs": [
    {
     "name": "stdout",
     "output_type": "stream",
     "text": [
      "Datos de los pacientes cargados con exito\n",
      "['123', 89076541, 'Heredia', 'Barva', 'gripe', 'acetaminofen']\n",
      "['321', 31321321, 'Cartago', 'Pacayas', 'gastritis', 'antiacido']\n",
      "['456', 87539856, 'San Jose', 'Pavas', 'tos', 'jarabe']\n",
      "['789', 45522221, 'Limón', 'Puerto Viejo', 'migraña', 'acetaminofen']\n",
      "['345', 45354632, 'Guanacaste', 'Liberia', 'dolor', 'acetaminofen']\n",
      "['123', 89076541, 'Heredia', 'Barva', 'migraña', 'acetaminofen']\n",
      "['456', 87539856, 'San Jose', 'Pavas', 'dolor', 'acetaminofen']\n",
      "['456', 87539856, 'San Jose', 'Pavas', 'dolor', 'jarabe']\n",
      "['345', 45354632, 'Guanacaste', 'Liberia', 'gripe', 'acetaminofen']\n",
      "['789', 45522221, 'Limón', 'Puerto Viejo', 'presion', 'acetaminofen']\n"
     ]
    }
   ],
   "source": [
    "import json\n",
    "#cargar el archivo \n",
    "with open('clinica.json', encoding = 'utf-8') as archivo:\n",
    "    datos_pacientes = json.load(archivo)\n",
    "    print(\"Datos de los pacientes cargados con exito\")\n",
    "datos_pacientes\n",
    "for paciente in datos_pacientes:\n",
    "    print(paciente)\n"
   ]
  },
  {
   "attachments": {},
   "cell_type": "markdown",
   "metadata": {
    "azdata_cell_guid": "27d04572-8b5b-46fa-b3ee-4ed3f2939a34",
    "language": "python"
   },
   "source": [
    "## Desafío 1: Análisis Científico - Reporte de Enfermedades Tratadas\n",
    "\n",
    "Tu primer reto es analizar los datos de los pacientes para generar un reporte de las enfermedades tratadas en la clínica. Utiliza listas y ciclos para contar cuántos pacientes han sido tratados por cada enfermedad.\n",
    "\n",
    "### Instrucciones:\n",
    "\n",
    "1. Crea una lista vacía donde almacenarás las enfermedades.\n",
    "2. Recorre los datos de los pacientes y extrae la enfermedad de cada paciente.\n",
    "3. Cuenta cuántos pacientes han sido tratados por cada enfermedad.\n",
    "4. Visualiza los resultados de manera clara utilizando la técnica que elijas (gráficos o tablas).\n",
    "\n",
    "### Preguntas:\n",
    "\n",
    "- ¿Qué enfermedades son las más tratadas en la clínica?\n",
    "- ¿Hay alguna enfermedad que te sorprenda por su prevalencia?\n",
    "\n"
   ]
  },
  {
   "attachments": {},
   "cell_type": "markdown",
   "metadata": {
    "azdata_cell_guid": "4b7c571d-d8f2-4d72-9f79-9718986200eb"
   },
   "source": [
    "### **Paso a Paso para el Estudiante**\n",
    "\n",
    "#### **Paso 1: Crear las Listas**\n",
    "\n",
    "### \n",
    "\n",
    "1. **Objetivo:** Necesitamos dos listas para almacenar:\n",
    "    \n",
    "    - Los nombres de las enfermedades.\n",
    "    - La cantidad de veces que cada enfermedad aparece.\n",
    "2. **Instrucción:**\n",
    "    \n",
    "    - Crea una lista vacía llamada `lista_enfermedades`.\n",
    "    - Crea otra lista vacía llamada `lista_cantidades`."
   ]
  },
  {
   "cell_type": "code",
   "execution_count": 2,
   "metadata": {
    "azdata_cell_guid": "61977840-044f-4cb3-858a-1812c43f3e2b",
    "language": "python"
   },
   "outputs": [],
   "source": [
    "# Lista para almacenar las enfermedades y sus cantidades\n",
    "lista_enfermedades = []\n",
    "frecuencia = []\n"
   ]
  },
  {
   "attachments": {},
   "cell_type": "markdown",
   "metadata": {
    "azdata_cell_guid": "549b6c62-76c6-4412-ae94-4d7a0ebd790d"
   },
   "source": [
    "#### **Paso 2: Recorrer los Datos de los Pacientes**\n",
    "\n",
    "### \n",
    "\n",
    "1. **Objetivo:** Vamos a analizar cada paciente para extraer su enfermedad.\n",
    "    \n",
    "2. **Instrucción:**\n",
    "    \n",
    "    - Usa un bucle `for` para recorrer cada `paciente` en `datos_pacientes` (ya está definida en el código como una lista de listas).\n",
    "    - Dentro del bucle, asigna la enfermedad del paciente (índice `4` de cada lista) a una variable llamada `enfermedad`."
   ]
  },
  {
   "cell_type": "code",
   "execution_count": 3,
   "metadata": {
    "azdata_cell_guid": "eaf15439-71de-42c1-b0d3-c4ee8210cf05",
    "language": "python"
   },
   "outputs": [
    {
     "name": "stdout",
     "output_type": "stream",
     "text": [
      "gripe\n",
      "gastritis\n",
      "tos\n",
      "migraña\n",
      "dolor\n",
      "migraña\n",
      "dolor\n",
      "dolor\n",
      "gripe\n",
      "presion\n"
     ]
    }
   ],
   "source": [
    "# Extraemos la enfermedad del paciente\n",
    "#Puedes imprimir el for para ver los datos que se procesan\n",
    "# 0 ,   1   2   3 . 4 5\n",
    "for  paciente in datos_pacientes:\n",
    "    enfermedad = paciente[4]\n",
    "    print(enfermedad)\n",
    "    \n"
   ]
  },
  {
   "cell_type": "code",
   "execution_count": null,
   "metadata": {},
   "outputs": [],
   "source": []
  },
  {
   "attachments": {},
   "cell_type": "markdown",
   "metadata": {
    "azdata_cell_guid": "d587b0f6-79f4-4a71-bcaf-837bd0c31bee",
    "language": "python"
   },
   "source": [
    "#### **Paso 3: Verificar si la Enfermedad ya Está en la Lista**\n",
    "\n",
    "1. **Objetivo:** Verificar si la enfermedad ya fue registrada.\n",
    "    \n",
    "2. **Instrucción:**\n",
    "    \n",
    "    - Usa un `if` para verificar si la `enfermedad` ya está en `lista_enfermedades`.\n",
    "    - Si **no** está en `lista_enfermedades`, agrega la enfermedad a `lista_enfermedades` y añade `1` a `lista_cantidades` para contarla por primera vez.\n",
    "    - Si **sí** está en `lista_enfermedades`, encuentra la posición (`indice`) de la enfermedad en `lista_enfermedades` y aumenta en `1` el valor en `lista_cantidades` en la misma posición."
   ]
  },
  {
   "cell_type": "code",
   "execution_count": 4,
   "metadata": {
    "azdata_cell_guid": "f5cffccc-7f3a-45f8-b203-53faac8d2ab0",
    "language": "python"
   },
   "outputs": [
    {
     "ename": "IndentationError",
     "evalue": "unexpected indent (3961157957.py, line 4)",
     "output_type": "error",
     "traceback": [
      "\u001b[0;36m  Cell \u001b[0;32mIn[4], line 4\u001b[0;36m\u001b[0m\n\u001b[0;31m    for paciente in datos_pacientes:\u001b[0m\n\u001b[0m    ^\u001b[0m\n\u001b[0;31mIndentationError\u001b[0m\u001b[0;31m:\u001b[0m unexpected indent\n"
     ]
    }
   ],
   "source": [
    "# Pista: Usa `in` para verificar si la enfermedad ya está en lista_enfermedades.\n",
    "# Pista: Si la enfermedad no está, agrégala a lista_enfermedades y empieza el conteo en lista_cantidades.\n",
    "# Pista: Si la enfermedad ya está, usa `index` para encontrar su posición en lista_enfermedades y suma 1 en lista_cantidades en esa posición.\n",
    "    for paciente in datos_pacientes:\n",
    "        enfermedad = paciente[4]\n",
    "        if enfermedad in lista_enfermedades: \n",
    "            index = lista_enfermedades.index(enfermedad)\n",
    "            frecuencias[index]+= 1\n",
    "        else:\n",
    "            lista_enfermedades.append(enfermedad)\n",
    "            frecuencias.append(1)\n",
    "            print(lista_enfermedades)\n",
    "            print(frecuencias)\n",
    "        "
   ]
  },
  {
   "attachments": {},
   "cell_type": "markdown",
   "metadata": {
    "azdata_cell_guid": "2ceed8f4-0a9a-48ac-ba0d-d48dc319ab9f",
    "language": "python"
   },
   "source": [
    "#### **Paso 4: Imprimir el Reporte Final**\n",
    "\n",
    "1. **Objetivo:** Mostrar el número de pacientes con cada enfermedad.\n",
    "    \n",
    "2. **Instrucción:**\n",
    "    \n",
    "    - Usa un bucle `for` para recorrer la lista `lista_enfermedades`.\n",
    "    - En cada iteración, imprime la enfermedad y el número de pacientes (que está en `lista_cantidades` en la misma posición)."
   ]
  },
  {
   "cell_type": "code",
   "execution_count": 21,
   "metadata": {
    "azdata_cell_guid": "5368c6bd-5224-4c6f-a5ad-ef6767750039",
    "language": "python"
   },
   "outputs": [
    {
     "name": "stdout",
     "output_type": "stream",
     "text": [
      "Reporte de enfermedades tratadas:\n"
     ]
    },
    {
     "ename": "NameError",
     "evalue": "name 'frecuencias' is not defined",
     "output_type": "error",
     "traceback": [
      "\u001b[0;31m---------------------------------------------------------------------------\u001b[0m",
      "\u001b[0;31mNameError\u001b[0m                                 Traceback (most recent call last)",
      "Cell \u001b[0;32mIn[21], line 3\u001b[0m\n\u001b[1;32m      1\u001b[0m \u001b[38;5;28mprint\u001b[39m(\u001b[38;5;124m\"\u001b[39m\u001b[38;5;124mReporte de enfermedades tratadas:\u001b[39m\u001b[38;5;124m\"\u001b[39m)\n\u001b[1;32m      2\u001b[0m \u001b[38;5;28;01mfor\u001b[39;00m indice \u001b[38;5;129;01min\u001b[39;00m \u001b[38;5;28mrange\u001b[39m(\u001b[38;5;28mlen\u001b[39m(lista_enfermedades)):\n\u001b[0;32m----> 3\u001b[0m     \u001b[38;5;28mprint\u001b[39m(\u001b[38;5;124mf\u001b[39m\u001b[38;5;124m\"\u001b[39m\u001b[38;5;124mLa enfermedad \u001b[39m\u001b[38;5;132;01m{\u001b[39;00mlista_enfermedades[indice]\u001b[38;5;132;01m}\u001b[39;00m\u001b[38;5;124m : \u001b[39m\u001b[38;5;132;01m{\u001b[39;00m\u001b[43mfrecuencias\u001b[49m[indice]\u001b[38;5;132;01m}\u001b[39;00m\u001b[38;5;124m pacientes\u001b[39m\u001b[38;5;124m\"\u001b[39m)\n",
      "\u001b[0;31mNameError\u001b[0m: name 'frecuencias' is not defined"
     ]
    }
   ],
   "source": [
    "\n",
    "print(\"Reporte de enfermedades tratadas:\")\n",
    "for indice in range(len(lista_enfermedades)):\n",
    "    print(f\"La enfermedad {lista_enfermedades[indice]} : {frecuencias[indice]} pacientes\")"
   ]
  },
  {
   "attachments": {},
   "cell_type": "markdown",
   "metadata": {
    "azdata_cell_guid": "02262547-dabe-40b9-9ef0-5863dcad648b",
    "language": "python"
   },
   "source": [
    "### **Resumen Completo del Código**\n",
    "\n",
    "En ésta celda resume el código completo que debería tener al final para la solución del ejercicio:"
   ]
  },
  {
   "cell_type": "code",
   "execution_count": null,
   "metadata": {
    "azdata_cell_guid": "fb7ea25e-c906-4f7e-9265-dd63d3193b54",
    "language": "python"
   },
   "outputs": [],
   "source": [
    "#Esta parte puedes colocar todos los bloques de las celdas anteriores \n"
   ]
  },
  {
   "attachments": {},
   "cell_type": "markdown",
   "metadata": {
    "azdata_cell_guid": "babcfd28-f173-4adb-b593-c5cf58370bc0",
    "language": "python"
   },
   "source": [
    "## Desafío 2: Exploración Tecnológica - Reporte de Medicamentos Recetados\n",
    "\n",
    "Ahora que ya tienes el reporte de las enfermedades tratadas, es momento de explorar qué medicamentos se están recetando en la clínica. Tu tarea es generar un reporte similar al anterior, pero esta vez debes contar cuántos pacientes han recibido cada medicamento.\n",
    "\n",
    "### Instrucciones:\n",
    "\n",
    "1. Almacena los medicamentos recetados en una lista.\n",
    "2. Recorre los datos y cuenta cuántos pacientes han recibido cada medicamento.\n",
    "3. Visualiza los resultados de manera creativa.\n",
    "\n",
    "### Preguntas:\n",
    "\n",
    "- ¿Qué medicamentos son los más recetados?\n",
    "- ¿Cómo podrías optimizar el uso de medicamentos en la clínica?\n",
    "\n",
    "Resultados esperados: \n",
    "\n",
    "```\n",
    "Reporte de medicamentos recetados:\n",
    "acetaminofen: 9 pacientes\n",
    "antiácido: 2 pacientes\n",
    "jarabe: 2 pacientes\n",
    "insulina: 3 pacientes\n",
    "salbutamol: 4 pacientes\n",
    "levotiroxina: 2 pacientes\n",
    "............................................\n",
    "\n",
    "```"
   ]
  },
  {
   "cell_type": "code",
   "execution_count": 26,
   "metadata": {},
   "outputs": [
    {
     "name": "stdout",
     "output_type": "stream",
     "text": [
      "Reporte de enfermedades tratadas:\n"
     ]
    },
    {
     "ename": "NameError",
     "evalue": "name 'frecuencias' is not defined",
     "output_type": "error",
     "traceback": [
      "\u001b[0;31m---------------------------------------------------------------------------\u001b[0m",
      "\u001b[0;31mNameError\u001b[0m                                 Traceback (most recent call last)",
      "Cell \u001b[0;32mIn[26], line 3\u001b[0m\n\u001b[1;32m      1\u001b[0m \u001b[38;5;28mprint\u001b[39m(\u001b[38;5;124m\"\u001b[39m\u001b[38;5;124mReporte de enfermedades tratadas:\u001b[39m\u001b[38;5;124m\"\u001b[39m)\n\u001b[1;32m      2\u001b[0m \u001b[38;5;28;01mfor\u001b[39;00m indice \u001b[38;5;129;01min\u001b[39;00m \u001b[38;5;28mrange\u001b[39m(\u001b[38;5;28mlen\u001b[39m(lista_enfermedades)):\n\u001b[0;32m----> 3\u001b[0m     \u001b[38;5;28mprint\u001b[39m(\u001b[38;5;124mf\u001b[39m\u001b[38;5;124m\"\u001b[39m\u001b[38;5;124mLa enfermedad \u001b[39m\u001b[38;5;132;01m{\u001b[39;00mlista_enfermedades[indice]\u001b[38;5;132;01m}\u001b[39;00m\u001b[38;5;124m : \u001b[39m\u001b[38;5;132;01m{\u001b[39;00m\u001b[43mfrecuencias\u001b[49m[indice]\u001b[38;5;132;01m}\u001b[39;00m\u001b[38;5;124m pacientes\u001b[39m\u001b[38;5;124m\"\u001b[39m)\n",
      "\u001b[0;31mNameError\u001b[0m: name 'frecuencias' is not defined"
     ]
    }
   ],
   "source": [
    "print(\"Reporte de enfermedades tratadas:\")\n",
    "for indice in range(len(lista_enfermedades)):\n",
    "    print(f\"La enfermedad {lista_enfermedades[indice]} : {frecuencias[indice]} pacientes\")"
   ]
  },
  {
   "cell_type": "code",
   "execution_count": 27,
   "metadata": {},
   "outputs": [
    {
     "name": "stdout",
     "output_type": "stream",
     "text": [
      "Datos de los pacientes cargados con éxito!\n",
      "\n",
      "Reporte de enfermedades tratadas:\n",
      "La enfermedad gripe : 2 pacientes\n",
      "La enfermedad gastritis : 1 pacientes\n",
      "La enfermedad tos : 1 pacientes\n",
      "La enfermedad migraña : 2 pacientes\n",
      "La enfermedad dolor : 3 pacientes\n",
      "La enfermedad presion : 1 pacientes\n"
     ]
    }
   ],
   "source": [
    "import json #Importar la libreria de Json\n",
    "\n",
    "#Cargar Archivo\n",
    "with open('clinica.json',encoding='utf-8') as archivo:\n",
    "    datos_pacientes = json.load(archivo)\n",
    "    print('Datos de los pacientes cargados con éxito!\\n')\n",
    "    \n",
    "lista_enfermedades = []\n",
    "frecuencias = []\n",
    "\n",
    "for paciente in datos_pacientes:\n",
    "    enfermedad = paciente[4]\n",
    "    if enfermedad in lista_enfermedades:\n",
    "        #La enfermedad ya fue registrada\n",
    "        index = lista_enfermedades.index(enfermedad)\n",
    "        #frecuencias[index] = frecuencias [index] + 1\n",
    "        frecuencias[index] += 1\n",
    "    else:\n",
    "        #Agrego enfermedades nuevas a la lista\n",
    "        lista_enfermedades.append(enfermedad)\n",
    "        frecuencias.append(1)\n",
    "\n",
    "print(\"Reporte de enfermedades tratadas:\")\n",
    "for indice in range(len(lista_enfermedades)):\n",
    "    print(f\"La enfermedad {lista_enfermedades[indice]} : {frecuencias[indice]} pacientes\")"
   ]
  },
  {
   "cell_type": "code",
   "execution_count": null,
   "metadata": {
    "azdata_cell_guid": "85051147-a5a3-40e9-a423-179ac721be03",
    "language": "python"
   },
   "outputs": [],
   "source": [
    "# Listas para almacenar los medicamentos y sus frecuencias\n",
    "medicamentos = []\n",
    "frecuencias = []\n",
    "\n"
   ]
  },
  {
   "attachments": {},
   "cell_type": "markdown",
   "metadata": {
    "azdata_cell_guid": "e75d82f8-c903-459c-b6b4-3cdc9d23ac5c"
   },
   "source": [
    "## Desafío 3: Ingeniería - Comparar Pacientes por Identificación\n",
    "\n",
    "Este desafío te permitirá comparar dos pacientes de la clínica en base a sus identificaciones. Tu objetivo es averiguar:\n",
    "\n",
    "1. **¿Qué enfermedades tienen en común?**\n",
    "2. **¿Qué medicamentos toman en común?**\n",
    "\n",
    "### Instrucciones:\n",
    "\n",
    "1. Solicita dos identificaciones de pacientes al usuario.\n",
    "2. Extrae las enfermedades y medicamentos de esos dos pacientes.\n",
    "3. Compara las enfermedades y medicamentos y muestra los resultados.\n",
    "\n",
    "### Preguntas:\n",
    "\n",
    "- ¿Qué enfermedades y medicamentos son comunes en los pacientes comparados?\n",
    "- ¿Qué información adicional podrías incluir para mejorar esta comparación?\n"
   ]
  },
  {
   "cell_type": "code",
   "execution_count": 7,
   "metadata": {},
   "outputs": [
    {
     "name": "stdout",
     "output_type": "stream",
     "text": [
      "Datos de los pacientes cargados con éxito!\n",
      "\n"
     ]
    },
    {
     "ename": "TypeError",
     "evalue": "string indices must be integers, not 'str'",
     "output_type": "error",
     "traceback": [
      "\u001b[0;31m---------------------------------------------------------------------------\u001b[0m",
      "\u001b[0;31mTypeError\u001b[0m                                 Traceback (most recent call last)",
      "Cell \u001b[0;32mIn[7], line 18\u001b[0m\n\u001b[1;32m     14\u001b[0m \u001b[38;5;66;03m# Obtener información de ambos pacientes\u001b[39;00m\n\u001b[1;32m     16\u001b[0m \u001b[38;5;28;01mif\u001b[39;00m id_paciente1 \u001b[38;5;129;01mand\u001b[39;00m id_paciente2:\n\u001b[1;32m     17\u001b[0m     \u001b[38;5;66;03m# Comparar enfermedades y medicamentos\u001b[39;00m\n\u001b[0;32m---> 18\u001b[0m     enfermedad_comun \u001b[38;5;241m=\u001b[39m \u001b[43mid_paciente1\u001b[49m\u001b[43m[\u001b[49m\u001b[38;5;124;43m\"\u001b[39;49m\u001b[38;5;124;43menfermedad\u001b[39;49m\u001b[38;5;124;43m\"\u001b[39;49m\u001b[43m]\u001b[49m \u001b[38;5;241m==\u001b[39m id_paciente2[\u001b[38;5;124m\"\u001b[39m\u001b[38;5;124menfermedad\u001b[39m\u001b[38;5;124m\"\u001b[39m]\n\u001b[1;32m     19\u001b[0m     medicamento_comun \u001b[38;5;241m=\u001b[39m id_aciente1[\u001b[38;5;124m\"\u001b[39m\u001b[38;5;124mmedicamento\u001b[39m\u001b[38;5;124m\"\u001b[39m] \u001b[38;5;241m==\u001b[39m id_paciente2[\u001b[38;5;124m\"\u001b[39m\u001b[38;5;124mmedicamento\u001b[39m\u001b[38;5;124m\"\u001b[39m]\n\u001b[1;32m     21\u001b[0m     \u001b[38;5;66;03m# Mostrar los resultados\u001b[39;00m\n",
      "\u001b[0;31mTypeError\u001b[0m: string indices must be integers, not 'str'"
     ]
    }
   ],
   "source": [
    "#cargar datos de json a visual code\n",
    "with open('clinica.json',encoding='utf-8') as archivo:\n",
    "    datos_pacientes = json.load(archivo)\n",
    "    print('Datos de los pacientes cargados con éxito!\\n')\n",
    "# hacer la lista de enfermedades\n",
    "lista_enfermedades = []\n",
    "frecuencias = []\n",
    "\n",
    "for paciente in datos_pacientes:\n",
    "    enfermedad = paciente[4]\n",
    "# Solicitar identificaciones de pacientes al usuario\n",
    "id_paciente1 = input(\"Ingrese la identificación del primer paciente: \")\n",
    "id_paciente2 = input(\"Ingrese la identificación del segundo paciente: \")\n",
    "# Obtener información de ambos pacientes\n",
    "\n",
    "if id_paciente1 and id_paciente2:\n",
    "    # Comparar enfermedades y medicamentos\n",
    "    enfermedad_comun = id_paciente1[\"enfermedad\"] == id_paciente2[\"enfermedad\"]\n",
    "    medicamento_comun = id_aciente1[\"medicamento\"] == id_paciente2[\"medicamento\"]\n",
    "    \n",
    "    # Mostrar los resultados\n",
    "    print(\"\\nComparación de Pacientes:\")\n",
    "    print(f\"Paciente 1 - Enfermedad: {id_paciente1['enfermedad']}, Medicamento: {id_paciente1['medicamento']}\")\n",
    "    print(f\"Paciente 2 - Enfermedad: {id_paciente2['enfermedad']}, Medicamento: {id_paciente2['medicamento']}\")\n",
    "    \n",
    "    if enfermedad_comun:\n",
    "        print(f\"Ambos pacientes tienen la misma enfermedad: {id_paciente1['enfermedad']}\")\n",
    "    else:\n",
    "        print(\"Los pacientes tienen enfermedades diferentes.\")\n",
    "    \n",
    "    if medicamento_comun:\n",
    "        print(f\"Ambos pacientes toman el mismo medicamento: {id_paciente1['medicamento']}\")\n",
    "    else:\n",
    "        print(\"Los pacientes toman medicamentos diferentes.\")\n",
    "else:\n",
    "    print(\"Una o ambas identificaciones no existen en la base de datos.\")\n"
   ]
  },
  {
   "cell_type": "code",
   "execution_count": 28,
   "metadata": {},
   "outputs": [
    {
     "name": "stdout",
     "output_type": "stream",
     "text": [
      "Datos de los pacientes cargados con éxito!\n",
      "\n",
      "Reporte de enfermedades tratadas:\n",
      "La enfermedad gripe : 2 pacientes\n",
      "La enfermedad gastritis : 1 pacientes\n",
      "La enfermedad tos : 1 pacientes\n",
      "La enfermedad migraña : 2 pacientes\n",
      "La enfermedad dolor : 3 pacientes\n",
      "La enfermedad presion : 1 pacientes\n"
     ]
    },
    {
     "ename": "KeyboardInterrupt",
     "evalue": "Interrupted by user",
     "output_type": "error",
     "traceback": [
      "\u001b[0;31m---------------------------------------------------------------------------\u001b[0m",
      "\u001b[0;31mKeyboardInterrupt\u001b[0m                         Traceback (most recent call last)",
      "Cell \u001b[0;32mIn[28], line 27\u001b[0m\n\u001b[1;32m     25\u001b[0m     \u001b[38;5;28mprint\u001b[39m(\u001b[38;5;124mf\u001b[39m\u001b[38;5;124m\"\u001b[39m\u001b[38;5;124mLa enfermedad \u001b[39m\u001b[38;5;132;01m{\u001b[39;00mlista_enfermedades[indice]\u001b[38;5;132;01m}\u001b[39;00m\u001b[38;5;124m : \u001b[39m\u001b[38;5;132;01m{\u001b[39;00mfrecuencias[indice]\u001b[38;5;132;01m}\u001b[39;00m\u001b[38;5;124m pacientes\u001b[39m\u001b[38;5;124m\"\u001b[39m)\n\u001b[1;32m     26\u001b[0m     \u001b[38;5;66;03m# Solicitar identificaciones de pacientes\u001b[39;00m\n\u001b[0;32m---> 27\u001b[0m id_paciente1 \u001b[38;5;241m=\u001b[39m \u001b[38;5;28;43minput\u001b[39;49m\u001b[43m(\u001b[49m\u001b[38;5;124;43m\"\u001b[39;49m\u001b[38;5;124;43mIngresa la identificación del primer paciente: \u001b[39;49m\u001b[38;5;124;43m\"\u001b[39;49m\u001b[43m)\u001b[49m\n\u001b[1;32m     28\u001b[0m id_paciente2 \u001b[38;5;241m=\u001b[39m \u001b[38;5;28minput\u001b[39m(\u001b[38;5;124m\"\u001b[39m\u001b[38;5;124mIngresa la identificación del segundo paciente: \u001b[39m\u001b[38;5;124m\"\u001b[39m)\n\u001b[1;32m     29\u001b[0m paciente1 \u001b[38;5;241m=\u001b[39m obtener_informacion_paciente(id_paciente1)\n",
      "File \u001b[0;32m~/Library/Python/3.13/lib/python/site-packages/ipykernel/kernelbase.py:1282\u001b[0m, in \u001b[0;36mKernel.raw_input\u001b[0;34m(self, prompt)\u001b[0m\n\u001b[1;32m   1280\u001b[0m     msg \u001b[38;5;241m=\u001b[39m \u001b[38;5;124m\"\u001b[39m\u001b[38;5;124mraw_input was called, but this frontend does not support input requests.\u001b[39m\u001b[38;5;124m\"\u001b[39m\n\u001b[1;32m   1281\u001b[0m     \u001b[38;5;28;01mraise\u001b[39;00m StdinNotImplementedError(msg)\n\u001b[0;32m-> 1282\u001b[0m \u001b[38;5;28;01mreturn\u001b[39;00m \u001b[38;5;28;43mself\u001b[39;49m\u001b[38;5;241;43m.\u001b[39;49m\u001b[43m_input_request\u001b[49m\u001b[43m(\u001b[49m\n\u001b[1;32m   1283\u001b[0m \u001b[43m    \u001b[49m\u001b[38;5;28;43mstr\u001b[39;49m\u001b[43m(\u001b[49m\u001b[43mprompt\u001b[49m\u001b[43m)\u001b[49m\u001b[43m,\u001b[49m\n\u001b[1;32m   1284\u001b[0m \u001b[43m    \u001b[49m\u001b[38;5;28;43mself\u001b[39;49m\u001b[38;5;241;43m.\u001b[39;49m\u001b[43m_parent_ident\u001b[49m\u001b[43m[\u001b[49m\u001b[38;5;124;43m\"\u001b[39;49m\u001b[38;5;124;43mshell\u001b[39;49m\u001b[38;5;124;43m\"\u001b[39;49m\u001b[43m]\u001b[49m\u001b[43m,\u001b[49m\n\u001b[1;32m   1285\u001b[0m \u001b[43m    \u001b[49m\u001b[38;5;28;43mself\u001b[39;49m\u001b[38;5;241;43m.\u001b[39;49m\u001b[43mget_parent\u001b[49m\u001b[43m(\u001b[49m\u001b[38;5;124;43m\"\u001b[39;49m\u001b[38;5;124;43mshell\u001b[39;49m\u001b[38;5;124;43m\"\u001b[39;49m\u001b[43m)\u001b[49m\u001b[43m,\u001b[49m\n\u001b[1;32m   1286\u001b[0m \u001b[43m    \u001b[49m\u001b[43mpassword\u001b[49m\u001b[38;5;241;43m=\u001b[39;49m\u001b[38;5;28;43;01mFalse\u001b[39;49;00m\u001b[43m,\u001b[49m\n\u001b[1;32m   1287\u001b[0m \u001b[43m\u001b[49m\u001b[43m)\u001b[49m\n",
      "File \u001b[0;32m~/Library/Python/3.13/lib/python/site-packages/ipykernel/kernelbase.py:1325\u001b[0m, in \u001b[0;36mKernel._input_request\u001b[0;34m(self, prompt, ident, parent, password)\u001b[0m\n\u001b[1;32m   1322\u001b[0m \u001b[38;5;28;01mexcept\u001b[39;00m \u001b[38;5;167;01mKeyboardInterrupt\u001b[39;00m:\n\u001b[1;32m   1323\u001b[0m     \u001b[38;5;66;03m# re-raise KeyboardInterrupt, to truncate traceback\u001b[39;00m\n\u001b[1;32m   1324\u001b[0m     msg \u001b[38;5;241m=\u001b[39m \u001b[38;5;124m\"\u001b[39m\u001b[38;5;124mInterrupted by user\u001b[39m\u001b[38;5;124m\"\u001b[39m\n\u001b[0;32m-> 1325\u001b[0m     \u001b[38;5;28;01mraise\u001b[39;00m \u001b[38;5;167;01mKeyboardInterrupt\u001b[39;00m(msg) \u001b[38;5;28;01mfrom\u001b[39;00m\u001b[38;5;250m \u001b[39m\u001b[38;5;28;01mNone\u001b[39;00m\n\u001b[1;32m   1326\u001b[0m \u001b[38;5;28;01mexcept\u001b[39;00m \u001b[38;5;167;01mException\u001b[39;00m:\n\u001b[1;32m   1327\u001b[0m     \u001b[38;5;28mself\u001b[39m\u001b[38;5;241m.\u001b[39mlog\u001b[38;5;241m.\u001b[39mwarning(\u001b[38;5;124m\"\u001b[39m\u001b[38;5;124mInvalid Message:\u001b[39m\u001b[38;5;124m\"\u001b[39m, exc_info\u001b[38;5;241m=\u001b[39m\u001b[38;5;28;01mTrue\u001b[39;00m)\n",
      "\u001b[0;31mKeyboardInterrupt\u001b[0m: Interrupted by user"
     ]
    }
   ],
   "source": [
    "import json #Importar la libreria de Json\n",
    "\n",
    "#Cargar Archivo\n",
    "with open('clinica.json',encoding='utf-8') as archivo:\n",
    "    datos_pacientes = json.load(archivo)\n",
    "    print('Datos de los pacientes cargados con éxito!\\n')\n",
    "    \n",
    "lista_enfermedades = []\n",
    "frecuencias = []\n",
    "\n",
    "for paciente in datos_pacientes:\n",
    "    enfermedad = paciente[4]\n",
    "    if enfermedad in lista_enfermedades:\n",
    "        #La enfermedad ya fue registrada\n",
    "        index = lista_enfermedades.index(enfermedad)\n",
    "        #frecuencias[index] = frecuencias [index] + 1\n",
    "        frecuencias[index] += 1\n",
    "    else:\n",
    "        #Agrego enfermedades nuevas a la lista\n",
    "        lista_enfermedades.append(enfermedad)\n",
    "        frecuencias.append(1)\n",
    "\n",
    "print(\"Reporte de enfermedades tratadas:\")\n",
    "for indice in range(len(lista_enfermedades)):\n",
    "    print(f\"La enfermedad {lista_enfermedades[indice]} : {frecuencias[indice]} pacientes\")\n",
    "    # Solicitar identificaciones de pacientes\n",
    "\n"
   ]
  },
  {
   "cell_type": "code",
   "execution_count": null,
   "metadata": {
    "azdata_cell_guid": "26417c6c-aa5d-41a9-b7c7-fa268a476a6d",
    "language": "python",
    "tags": []
   },
   "outputs": [],
   "source": [
    "# Pedimos las identificaciones de los dos pacientes\n",
    "\n",
    "id_paciente1 = input(\"Ingresa la identificación del primer paciente: \")\n",
    "id_paciente2 = input(\"Ingresa la identificación del segundo paciente: \")\n",
    "# Comparar enfermedades y medicamentos\n",
    "for lista_enfermedades in id_paciente1 and id_paciente2:\n",
    "    if lista_enfermedades in id_paciente1 == id_paciente2\n",
    "    print(\"enfermedad en comun\")\n",
    "    \n",
    "\n",
    "\n",
    "\n",
    "\n"
   ]
  },
  {
   "attachments": {},
   "cell_type": "markdown",
   "metadata": {
    "azdata_cell_guid": "ac71941a-8e0d-4ea1-98ff-b293ecd8defb",
    "language": "python"
   },
   "source": [
    "## Desafío Final: Arte y Matemáticas - Visualización Creativa y Reflexión\n",
    "\n",
    "Has llegado al último desafío, ¡felicidades! Ahora es momento de presentar tus resultados de una forma creativa. Tu tarea será utilizar **gráficos**, **tablas** o incluso **arte digital** para mostrar tus descubrimientos sobre los datos de los pacientes de la clínica.\n",
    "\n",
    "\n",
    "### Preguntas:\n",
    "\n",
    "- ¿Qué patrones encontraste en los datos?\n",
    "- ¿Cómo podrías usar estos análisis para mejorar la atención de los pacientes?"
   ]
  }
 ],
 "metadata": {
  "kernelspec": {
   "display_name": "Python 3",
   "language": "python",
   "name": "python3"
  },
  "language_info": {
   "codemirror_mode": {
    "name": "ipython",
    "version": 3
   },
   "file_extension": ".py",
   "mimetype": "text/x-python",
   "name": "python",
   "nbconvert_exporter": "python",
   "pygments_lexer": "ipython3",
   "version": "3.13.2"
  }
 },
 "nbformat": 4,
 "nbformat_minor": 2
}
